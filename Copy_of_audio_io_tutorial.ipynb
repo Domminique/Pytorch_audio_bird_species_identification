{
  "cells": [
    {
      "cell_type": "markdown",
      "metadata": {
        "id": "view-in-github",
        "colab_type": "text"
      },
      "source": [
        "<a href=\"https://colab.research.google.com/github/Domminique/Pytorch_audio_bird_species_identification/blob/main/Copy_of_audio_io_tutorial.ipynb\" target=\"_parent\"><img src=\"https://colab.research.google.com/assets/colab-badge.svg\" alt=\"Open In Colab\"/></a>"
      ]
    },
    {
      "cell_type": "markdown",
      "metadata": {
        "id": "m44UlHTzOxLE"
      },
      "source": [
        "\n",
        "# Audio I/O\n",
        "\n",
        "**Author**: [Moto Hira](moto@meta.com)_\n",
        "\n",
        "This tutorial shows how to use TorchAudio's basic I/O API to load audio files\n",
        "into PyTorch's Tensor object, and save Tensor objects to audio files.\n"
      ]
    },
    {
      "cell_type": "code",
      "execution_count": null,
      "metadata": {
        "id": "sFSc8dUgOxLH",
        "outputId": "2a7b2a54-43fd-482c-cad2-b7e885487598",
        "colab": {
          "base_uri": "https://localhost:8080/"
        }
      },
      "outputs": [
        {
          "output_type": "stream",
          "name": "stdout",
          "text": [
            "1.13.1+cu116\n",
            "0.13.1+cu116\n"
          ]
        }
      ],
      "source": [
        "import torch\n",
        "import torchaudio\n",
        "\n",
        "print(torch.__version__)\n",
        "print(torchaudio.__version__)"
      ]
    },
    {
      "cell_type": "markdown",
      "metadata": {
        "id": "OUNu_8RrOxLJ"
      },
      "source": [
        "## Preparation\n",
        "\n",
        "First, we import the modules and download the audio assets we use in this tutorial.\n",
        "\n",
        "<div class=\"alert alert-info\"><h4>Note</h4><p>When running this tutorial in Google Colab, install the required packages\n",
        "   with the following:\n",
        "\n",
        "   .. code::\n",
        "\n",
        "      !pip install boto3</p></div>\n",
        "\n"
      ]
    },
    {
      "cell_type": "code",
      "source": [
        "!pip install boto3"
      ],
      "metadata": {
        "colab": {
          "base_uri": "https://localhost:8080/"
        },
        "id": "c9N0iMKianIx",
        "outputId": "297a1236-6a20-42fc-85c0-c60296addad6"
      },
      "execution_count": null,
      "outputs": [
        {
          "output_type": "stream",
          "name": "stdout",
          "text": [
            "Looking in indexes: https://pypi.org/simple, https://us-python.pkg.dev/colab-wheels/public/simple/\n",
            "Collecting boto3\n",
            "  Downloading boto3-1.26.89-py3-none-any.whl (134 kB)\n",
            "\u001b[2K     \u001b[90m━━━━━━━━━━━━━━━━━━━━━━━━━━━━━━━━━━━━━━━\u001b[0m \u001b[32m134.7/134.7 KB\u001b[0m \u001b[31m5.5 MB/s\u001b[0m eta \u001b[36m0:00:00\u001b[0m\n",
            "\u001b[?25hCollecting jmespath<2.0.0,>=0.7.1\n",
            "  Downloading jmespath-1.0.1-py3-none-any.whl (20 kB)\n",
            "Collecting s3transfer<0.7.0,>=0.6.0\n",
            "  Downloading s3transfer-0.6.0-py3-none-any.whl (79 kB)\n",
            "\u001b[2K     \u001b[90m━━━━━━━━━━━━━━━━━━━━━━━━━━━━━━━━━━━━━━━━\u001b[0m \u001b[32m79.6/79.6 KB\u001b[0m \u001b[31m9.1 MB/s\u001b[0m eta \u001b[36m0:00:00\u001b[0m\n",
            "\u001b[?25hCollecting botocore<1.30.0,>=1.29.89\n",
            "  Downloading botocore-1.29.89-py3-none-any.whl (10.5 MB)\n",
            "\u001b[2K     \u001b[90m━━━━━━━━━━━━━━━━━━━━━━━━━━━━━━━━━━━━━━━━\u001b[0m \u001b[32m10.5/10.5 MB\u001b[0m \u001b[31m61.0 MB/s\u001b[0m eta \u001b[36m0:00:00\u001b[0m\n",
            "\u001b[?25hRequirement already satisfied: urllib3<1.27,>=1.25.4 in /usr/local/lib/python3.9/dist-packages (from botocore<1.30.0,>=1.29.89->boto3) (1.26.14)\n",
            "Requirement already satisfied: python-dateutil<3.0.0,>=2.1 in /usr/local/lib/python3.9/dist-packages (from botocore<1.30.0,>=1.29.89->boto3) (2.8.2)\n",
            "Requirement already satisfied: six>=1.5 in /usr/local/lib/python3.9/dist-packages (from python-dateutil<3.0.0,>=2.1->botocore<1.30.0,>=1.29.89->boto3) (1.15.0)\n",
            "Installing collected packages: jmespath, botocore, s3transfer, boto3\n",
            "Successfully installed boto3-1.26.89 botocore-1.29.89 jmespath-1.0.1 s3transfer-0.6.0\n"
          ]
        }
      ]
    },
    {
      "cell_type": "code",
      "execution_count": null,
      "metadata": {
        "id": "-0V8_xs6OxLK",
        "colab": {
          "base_uri": "https://localhost:8080/",
          "height": 113,
          "referenced_widgets": [
            "4939debfacb44f36b62e2b7f229c4380",
            "9f60521cb78b410e8c0bf7ed268efc69",
            "5fff30e4288a451ba84beb20fca36692",
            "50111c04154e4c19b128bc666434f027",
            "38ce4d84e71a4712b4ba908d8cccd0c5",
            "b6cfb1c7fff24053939495166fe6dc1d",
            "5a9af4dcca964e049653197370b70e16",
            "80490eb16cca4b538084041f7f20870a",
            "b319f53afdb94482af07f9c17b7e2bf4",
            "532417c46dc94df995ab910dfb2c3163",
            "f1a66d00c365455e9b531a91317887ae",
            "e0e61f723eab418e82c90b82171f9786",
            "f25ba601baf746cfb1bb5ad6e3b3e0d9",
            "c42cd6b589154e628b9cd4c75a7ea947",
            "907a16999aa3481abdbc9de166149781",
            "be2c46547e3449059edc0125805e8684",
            "5776f4a87e834be1bf9dc34eb1fdbdda",
            "424e8b47093b436d91d550f7cc7c8f53",
            "07c259347f3645e68a21b6c8ecd74933",
            "c73cfe8a0ee64271bf8652abc048cd1e",
            "908d000f434c4ec3aeecda1e4d187f9f",
            "df59c8581390476ebed7482ae37c6397",
            "db3bdec19bbc4ee8bfc9c04d219be902",
            "cb4d907cc498454893b26c626687982b",
            "bfb24bac22254b32a5213c8c359df92b",
            "ef443a7b328145ee96e3e634b2c379ab",
            "2208593e59fc4750acf2dc1f4d5c557b",
            "0c77d233369e492c9aa8e0facb2338ea",
            "0770eedc9f2f443d9ec2d75a9ef72ab6",
            "c3f2452031ab46c28f677b2122315a7e",
            "938b53ab4b664fcc901898f5b0bff7ec",
            "2272781d9f37406fb9aeb55eb82a025b",
            "41eaeb62da834363b45ae3cac954c059"
          ]
        },
        "outputId": "037a2164-2778-434f-92ee-95add0653d67"
      },
      "outputs": [
        {
          "output_type": "display_data",
          "data": {
            "text/plain": [
              "  0%|          | 0.00/7.99k [00:00<?, ?B/s]"
            ],
            "application/vnd.jupyter.widget-view+json": {
              "version_major": 2,
              "version_minor": 0,
              "model_id": "4939debfacb44f36b62e2b7f229c4380"
            }
          },
          "metadata": {}
        },
        {
          "output_type": "display_data",
          "data": {
            "text/plain": [
              "  0%|          | 0.00/106k [00:00<?, ?B/s]"
            ],
            "application/vnd.jupyter.widget-view+json": {
              "version_major": 2,
              "version_minor": 0,
              "model_id": "e0e61f723eab418e82c90b82171f9786"
            }
          },
          "metadata": {}
        },
        {
          "output_type": "display_data",
          "data": {
            "text/plain": [
              "  0%|          | 0.00/53.2k [00:00<?, ?B/s]"
            ],
            "application/vnd.jupyter.widget-view+json": {
              "version_major": 2,
              "version_minor": 0,
              "model_id": "db3bdec19bbc4ee8bfc9c04d219be902"
            }
          },
          "metadata": {}
        }
      ],
      "source": [
        "import io\n",
        "import os\n",
        "import tarfile\n",
        "import tempfile\n",
        "\n",
        "import boto3\n",
        "import matplotlib.pyplot as plt\n",
        "import requests\n",
        "from botocore import UNSIGNED\n",
        "from botocore.config import Config\n",
        "from IPython.display import Audio\n",
        "from torchaudio.utils import download_asset\n",
        "\n",
        "SAMPLE_GSM = download_asset(\"tutorial-assets/steam-train-whistle-daniel_simon.gsm\")\n",
        "SAMPLE_WAV = download_asset(\"tutorial-assets/Lab41-SRI-VOiCES-src-sp0307-ch127535-sg0042.wav\")\n",
        "SAMPLE_WAV_8000 = download_asset(\"tutorial-assets/Lab41-SRI-VOiCES-src-sp0307-ch127535-sg0042-8000hz.wav\")"
      ]
    },
    {
      "cell_type": "markdown",
      "metadata": {
        "id": "55qWNN8uOxLK"
      },
      "source": [
        "## Querying audio metadata\n",
        "\n",
        "Function :py:func:`torchaudio.info` fetches audio metadata.\n",
        "You can provide a path-like object or file-like object.\n",
        "\n",
        "\n"
      ]
    },
    {
      "cell_type": "code",
      "execution_count": null,
      "metadata": {
        "id": "iOtGcFHLOxLL",
        "colab": {
          "base_uri": "https://localhost:8080/"
        },
        "outputId": "1a874c73-d034-4ebc-8abf-c5d7ae0e63da"
      },
      "outputs": [
        {
          "output_type": "stream",
          "name": "stdout",
          "text": [
            "AudioMetaData(sample_rate=16000, num_frames=54400, num_channels=1, bits_per_sample=16, encoding=PCM_S)\n"
          ]
        }
      ],
      "source": [
        "metadata = torchaudio.info(SAMPLE_WAV)\n",
        "print(metadata)"
      ]
    },
    {
      "cell_type": "markdown",
      "metadata": {
        "id": "0RkcIvuBOxLL"
      },
      "source": [
        "Where\n",
        "\n",
        "-  ``sample_rate`` is the sampling rate of the audio\n",
        "-  ``num_channels`` is the number of channels\n",
        "-  ``num_frames`` is the number of frames per channel\n",
        "-  ``bits_per_sample`` is bit depth\n",
        "-  ``encoding`` is the sample coding format\n",
        "\n",
        "``encoding`` can take on one of the following values:\n",
        "\n",
        "-  ``\"PCM_S\"``: Signed integer linear PCM\n",
        "-  ``\"PCM_U\"``: Unsigned integer linear PCM\n",
        "-  ``\"PCM_F\"``: Floating point linear PCM\n",
        "-  ``\"FLAC\"``: Flac, [Free Lossless Audio\n",
        "   Codec](https://xiph.org/flac/)_\n",
        "-  ``\"ULAW\"``: Mu-law,\n",
        "   [[wikipedia](https://en.wikipedia.org/wiki/%CE%9C-law_algorithm)_]\n",
        "-  ``\"ALAW\"``: A-law\n",
        "   [[wikipedia](https://en.wikipedia.org/wiki/A-law_algorithm)_]\n",
        "-  ``\"MP3\"`` : MP3, MPEG-1 Audio Layer III\n",
        "-  ``\"VORBIS\"``: OGG Vorbis [[xiph.org](https://xiph.org/vorbis/)_]\n",
        "-  ``\"AMR_NB\"``: Adaptive Multi-Rate\n",
        "   [[wikipedia](https://en.wikipedia.org/wiki/Adaptive_Multi-Rate_audio_codec)_]\n",
        "-  ``\"AMR_WB\"``: Adaptive Multi-Rate Wideband\n",
        "   [[wikipedia](https://en.wikipedia.org/wiki/Adaptive_Multi-Rate_Wideband)_]\n",
        "-  ``\"OPUS\"``: Opus [[opus-codec.org](https://opus-codec.org/)_]\n",
        "-  ``\"GSM\"``: GSM-FR\n",
        "   [[wikipedia](https://en.wikipedia.org/wiki/Full_Rate)_]\n",
        "-  ``\"HTK\"``: Single channel 16-bit PCM\n",
        "-  ``\"UNKNOWN\"`` None of above\n",
        "\n",
        "\n"
      ]
    },
    {
      "cell_type": "markdown",
      "metadata": {
        "id": "kXIsZow_OxLM"
      },
      "source": [
        "**Note**\n",
        "\n",
        "-  ``bits_per_sample`` can be ``0`` for formats with compression and/or\n",
        "   variable bit rate (such as MP3).\n",
        "-  ``num_frames`` can be ``0`` for GSM-FR format.\n",
        "\n",
        "\n"
      ]
    },
    {
      "cell_type": "code",
      "execution_count": null,
      "metadata": {
        "id": "0WDnZzlhOxLM",
        "colab": {
          "base_uri": "https://localhost:8080/"
        },
        "outputId": "51384414-4b29-4f39-de15-606f0d54ecd2"
      },
      "outputs": [
        {
          "output_type": "stream",
          "name": "stdout",
          "text": [
            "AudioMetaData(sample_rate=8000, num_frames=0, num_channels=1, bits_per_sample=0, encoding=GSM)\n"
          ]
        }
      ],
      "source": [
        "metadata = torchaudio.info(SAMPLE_GSM)\n",
        "print(metadata)"
      ]
    },
    {
      "cell_type": "markdown",
      "metadata": {
        "id": "W3V24h_wOxLN"
      },
      "source": [
        "## Querying file-like object\n",
        "\n",
        ":py:func:`torchaudio.info` works on file-like objects.\n",
        "\n",
        "\n"
      ]
    },
    {
      "cell_type": "code",
      "execution_count": null,
      "metadata": {
        "id": "4f3xM9OBOxLN",
        "colab": {
          "base_uri": "https://localhost:8080/"
        },
        "outputId": "0f2a674d-485b-464c-840c-fa624b1f163e"
      },
      "outputs": [
        {
          "output_type": "stream",
          "name": "stdout",
          "text": [
            "AudioMetaData(sample_rate=44100, num_frames=109368, num_channels=2, bits_per_sample=16, encoding=PCM_S)\n"
          ]
        }
      ],
      "source": [
        "url = \"https://download.pytorch.org/torchaudio/tutorial-assets/steam-train-whistle-daniel_simon.wav\"\n",
        "with requests.get(url, stream=True) as response:\n",
        "    metadata = torchaudio.info(response.raw)\n",
        "print(metadata)"
      ]
    },
    {
      "cell_type": "markdown",
      "metadata": {
        "id": "q0CRolYiOxLO"
      },
      "source": [
        "<div class=\"alert alert-info\"><h4>Note</h4><p>When passing a file-like object, ``info`` does not read\n",
        "   all of the underlying data; rather, it reads only a portion\n",
        "   of the data from the beginning.\n",
        "   Therefore, for a given audio format, it may not be able to retrieve the\n",
        "   correct metadata, including the format itself. In such case, you\n",
        "   can pass ``format`` argument to specify the format of the audio.</p></div>\n",
        "\n"
      ]
    },
    {
      "cell_type": "markdown",
      "metadata": {
        "id": "tGgr4LclOxLO"
      },
      "source": [
        "## Loading audio data\n",
        "\n",
        "To load audio data, you can use :py:func:`torchaudio.load`.\n",
        "\n",
        "This function accepts a path-like object or file-like object as input.\n",
        "\n",
        "The returned value is a tuple of waveform (``Tensor``) and sample rate\n",
        "(``int``).\n",
        "\n",
        "By default, the resulting tensor object has ``dtype=torch.float32`` and\n",
        "its value range is ``[-1.0, 1.0]``.\n",
        "\n",
        "For the list of supported format, please refer to [the torchaudio\n",
        "documentation](https://pytorch.org/audio)_.\n",
        "\n",
        "\n"
      ]
    },
    {
      "cell_type": "code",
      "execution_count": null,
      "metadata": {
        "id": "ASbXfFrcOxLO"
      },
      "outputs": [],
      "source": [
        "waveform, sample_rate = torchaudio.load(SAMPLE_WAV)"
      ]
    },
    {
      "cell_type": "code",
      "execution_count": null,
      "metadata": {
        "id": "9Qu9qQEROxLO"
      },
      "outputs": [],
      "source": [
        "def plot_waveform(waveform, sample_rate):\n",
        "    waveform = waveform.numpy()\n",
        "\n",
        "    num_channels, num_frames = waveform.shape\n",
        "    time_axis = torch.arange(0, num_frames) / sample_rate\n",
        "\n",
        "    figure, axes = plt.subplots(num_channels, 1)\n",
        "    if num_channels == 1:\n",
        "        axes = [axes]\n",
        "    for c in range(num_channels):\n",
        "        axes[c].plot(time_axis, waveform[c], linewidth=1)\n",
        "        axes[c].grid(True)\n",
        "        if num_channels > 1:\n",
        "            axes[c].set_ylabel(f\"Channel {c+1}\")\n",
        "    figure.suptitle(\"waveform\")\n",
        "    plt.show(block=False)"
      ]
    },
    {
      "cell_type": "code",
      "execution_count": null,
      "metadata": {
        "id": "hD7QIdhHOxLP",
        "colab": {
          "base_uri": "https://localhost:8080/",
          "height": 294
        },
        "outputId": "d62e2c3c-fa22-410f-bd12-2491e1bd73d4"
      },
      "outputs": [
        {
          "output_type": "display_data",
          "data": {
            "text/plain": [
              "<Figure size 432x288 with 1 Axes>"
            ],
            "image/png": "[encoded data removed]"
          },
          "metadata": {
            "needs_background": "light"
          }
        }
      ],
      "source": [
        "plot_waveform(waveform, sample_rate)"
      ]
    },
    {
      "cell_type": "code",
      "execution_count": null,
      "metadata": {
        "id": "pvZCgTvvOxLP"
      },
      "outputs": [],
      "source": [
        "def plot_specgram(waveform, sample_rate, title=\"Spectrogram\"):\n",
        "    waveform = waveform.numpy()\n",
        "\n",
        "    num_channels, num_frames = waveform.shape\n",
        "\n",
        "    figure, axes = plt.subplots(num_channels, 1)\n",
        "    if num_channels == 1:\n",
        "        axes = [axes]\n",
        "    for c in range(num_channels):\n",
        "        axes[c].specgram(waveform[c], Fs=sample_rate)\n",
        "        if num_channels > 1:\n",
        "            axes[c].set_ylabel(f\"Channel {c+1}\")\n",
        "    figure.suptitle(title)\n",
        "    plt.show(block=False)"
      ]
    },
    {
      "cell_type": "code",
      "execution_count": null,
      "metadata": {
        "id": "F175vUOZOxLP"
      },
      "outputs": [],
      "source": [
        "plot_specgram(waveform, sample_rate)"
      ]
    },
    {
      "cell_type": "code",
      "execution_count": null,
      "metadata": {
        "id": "cUS4_d20OxLQ"
      },
      "outputs": [],
      "source": [
        "Audio(waveform.numpy()[0], rate=sample_rate)"
      ]
    },
    {
      "cell_type": "markdown",
      "metadata": {
        "id": "kn_nA1XHOxLQ"
      },
      "source": [
        "## Loading from file-like object\n",
        "\n",
        "The I/O functions support file-like objects.\n",
        "This allows for fetching and decoding audio data from locations\n",
        "within and beyond the local file system.\n",
        "The following examples illustrate this.\n",
        "\n",
        "\n"
      ]
    },
    {
      "cell_type": "code",
      "execution_count": null,
      "metadata": {
        "id": "QSR6nGXLOxLQ"
      },
      "outputs": [],
      "source": [
        "# Load audio data as HTTP request\n",
        "url = \"https://download.pytorch.org/torchaudio/tutorial-assets/Lab41-SRI-VOiCES-src-sp0307-ch127535-sg0042.wav\"\n",
        "with requests.get(url, stream=True) as response:\n",
        "    waveform, sample_rate = torchaudio.load(response.raw)\n",
        "plot_specgram(waveform, sample_rate, title=\"HTTP datasource\")"
      ]
    },
    {
      "cell_type": "code",
      "execution_count": null,
      "metadata": {
        "id": "liZMYoBKOxLQ"
      },
      "outputs": [],
      "source": [
        "# Load audio from tar file\n",
        "tar_path = download_asset(\"tutorial-assets/VOiCES_devkit.tar.gz\")\n",
        "tar_item = \"VOiCES_devkit/source-16k/train/sp0307/Lab41-SRI-VOiCES-src-sp0307-ch127535-sg0042.wav\"\n",
        "with tarfile.open(tar_path, mode=\"r\") as tarfile_:\n",
        "    fileobj = tarfile_.extractfile(tar_item)\n",
        "    waveform, sample_rate = torchaudio.load(fileobj)\n",
        "plot_specgram(waveform, sample_rate, title=\"TAR file\")"
      ]
    },
    {
      "cell_type": "code",
      "execution_count": null,
      "metadata": {
        "id": "mC-zNsD6OxLR"
      },
      "outputs": [],
      "source": [
        "# Load audio from S3\n",
        "bucket = \"pytorch-tutorial-assets\"\n",
        "key = \"VOiCES_devkit/source-16k/train/sp0307/Lab41-SRI-VOiCES-src-sp0307-ch127535-sg0042.wav\"\n",
        "client = boto3.client(\"s3\", config=Config(signature_version=UNSIGNED))\n",
        "response = client.get_object(Bucket=bucket, Key=key)\n",
        "waveform, sample_rate = torchaudio.load(response[\"Body\"])\n",
        "plot_specgram(waveform, sample_rate, title=\"From S3\")"
      ]
    },
    {
      "cell_type": "markdown",
      "metadata": {
        "id": "MC0SzDvnOxLR"
      },
      "source": [
        "## Tips on slicing\n",
        "\n",
        "Providing ``num_frames`` and ``frame_offset`` arguments restricts\n",
        "decoding to the corresponding segment of the input.\n",
        "\n",
        "The same result can be achieved using vanilla Tensor slicing,\n",
        "(i.e. ``waveform[:, frame_offset:frame_offset+num_frames]``). However,\n",
        "providing ``num_frames`` and ``frame_offset`` arguments is more\n",
        "efficient.\n",
        "\n",
        "This is because the function will end data acquisition and decoding\n",
        "once it finishes decoding the requested frames. This is advantageous\n",
        "when the audio data are transferred via network as the data transfer will\n",
        "stop as soon as the necessary amount of data is fetched.\n",
        "\n",
        "The following example illustrates this.\n",
        "\n",
        "\n"
      ]
    },
    {
      "cell_type": "code",
      "execution_count": null,
      "metadata": {
        "id": "vMDaB-2cOxLR"
      },
      "outputs": [],
      "source": [
        "# Illustration of two different decoding methods.\n",
        "# The first one will fetch all the data and decode them, while\n",
        "# the second one will stop fetching data once it completes decoding.\n",
        "# The resulting waveforms are identical.\n",
        "\n",
        "frame_offset, num_frames = 16000, 16000  # Fetch and decode the 1 - 2 seconds\n",
        "\n",
        "url = \"https://download.pytorch.org/torchaudio/tutorial-assets/Lab41-SRI-VOiCES-src-sp0307-ch127535-sg0042.wav\"\n",
        "print(\"Fetching all the data...\")\n",
        "with requests.get(url, stream=True) as response:\n",
        "    waveform1, sample_rate1 = torchaudio.load(response.raw)\n",
        "    waveform1 = waveform1[:, frame_offset : frame_offset + num_frames]\n",
        "    print(f\" - Fetched {response.raw.tell()} bytes\")\n",
        "\n",
        "print(\"Fetching until the requested frames are available...\")\n",
        "with requests.get(url, stream=True) as response:\n",
        "    waveform2, sample_rate2 = torchaudio.load(response.raw, frame_offset=frame_offset, num_frames=num_frames)\n",
        "    print(f\" - Fetched {response.raw.tell()} bytes\")\n",
        "\n",
        "print(\"Checking the resulting waveform ... \", end=\"\")\n",
        "assert (waveform1 == waveform2).all()\n",
        "print(\"matched!\")"
      ]
    },
    {
      "cell_type": "markdown",
      "metadata": {
        "id": "qVamD-PvOxLS"
      },
      "source": [
        "## Saving audio to file\n",
        "\n",
        "To save audio data in formats interpretable by common applications,\n",
        "you can use :py:func:`torchaudio.save`.\n",
        "\n",
        "This function accepts a path-like object or file-like object.\n",
        "\n",
        "When passing a file-like object, you also need to provide argument ``format``\n",
        "so that the function knows which format it should use. In the\n",
        "case of a path-like object, the function will infer the format from\n",
        "the extension. If you are saving to a file without an extension, you need\n",
        "to provide argument ``format``.\n",
        "\n",
        "When saving WAV-formatted data, the default encoding for ``float32`` Tensor\n",
        "is 32-bit floating-point PCM. You can provide arguments ``encoding`` and\n",
        "``bits_per_sample`` to change this behavior. For example, to save data\n",
        "in 16-bit signed integer PCM, you can do the following.\n",
        "\n",
        "<div class=\"alert alert-info\"><h4>Note</h4><p>Saving data in encodings with a lower bit depth reduces the\n",
        "   resulting file size but also precision.</p></div>\n",
        "\n",
        "\n"
      ]
    },
    {
      "cell_type": "code",
      "execution_count": null,
      "metadata": {
        "id": "nLe3NLenOxLS"
      },
      "outputs": [],
      "source": [
        "waveform, sample_rate = torchaudio.load(SAMPLE_WAV)"
      ]
    },
    {
      "cell_type": "code",
      "execution_count": null,
      "metadata": {
        "id": "q97pmgP8OxLS"
      },
      "outputs": [],
      "source": [
        "def inspect_file(path):\n",
        "    print(\"-\" * 10)\n",
        "    print(\"Source:\", path)\n",
        "    print(\"-\" * 10)\n",
        "    print(f\" - File size: {os.path.getsize(path)} bytes\")\n",
        "    print(f\" - {torchaudio.info(path)}\")\n",
        "    print()"
      ]
    },
    {
      "cell_type": "markdown",
      "metadata": {
        "id": "xEVTX_gLOxLT"
      },
      "source": [
        "Save without any encoding option.\n",
        "The function will pick up the encoding which\n",
        "the provided data fit\n",
        "\n"
      ]
    },
    {
      "cell_type": "code",
      "execution_count": null,
      "metadata": {
        "id": "3CNhUBCPOxLT"
      },
      "outputs": [],
      "source": [
        "with tempfile.TemporaryDirectory() as tempdir:\n",
        "    path = f\"{tempdir}/save_example_default.wav\"\n",
        "    torchaudio.save(path, waveform, sample_rate)\n",
        "    inspect_file(path)"
      ]
    },
    {
      "cell_type": "markdown",
      "metadata": {
        "id": "figBPKv-OxLT"
      },
      "source": [
        "Save as 16-bit signed integer Linear PCM\n",
        "The resulting file occupies half the storage but loses precision\n",
        "\n"
      ]
    },
    {
      "cell_type": "code",
      "execution_count": null,
      "metadata": {
        "id": "tROFK1JEOxLT"
      },
      "outputs": [],
      "source": [
        "with tempfile.TemporaryDirectory() as tempdir:\n",
        "    path = f\"{tempdir}/save_example_PCM_S16.wav\"\n",
        "    torchaudio.save(path, waveform, sample_rate, encoding=\"PCM_S\", bits_per_sample=16)\n",
        "    inspect_file(path)"
      ]
    },
    {
      "cell_type": "markdown",
      "metadata": {
        "id": "2c_QTOduOxLU"
      },
      "source": [
        ":py:func:`torchaudio.save` can also handle other formats.\n",
        "To name a few:\n",
        "\n",
        "\n"
      ]
    },
    {
      "cell_type": "code",
      "execution_count": null,
      "metadata": {
        "id": "cZSyOQvuOxLU"
      },
      "outputs": [],
      "source": [
        "formats = [\n",
        "    \"flac\",\n",
        "    \"vorbis\",\n",
        "    \"sph\",\n",
        "    \"amb\",\n",
        "    \"amr-nb\",\n",
        "    \"gsm\",\n",
        "]"
      ]
    },
    {
      "cell_type": "code",
      "execution_count": null,
      "metadata": {
        "id": "358W5n80OxLU"
      },
      "outputs": [],
      "source": [
        "waveform, sample_rate = torchaudio.load(SAMPLE_WAV_8000)\n",
        "with tempfile.TemporaryDirectory() as tempdir:\n",
        "    for format in formats:\n",
        "        path = f\"{tempdir}/save_example.{format}\"\n",
        "        torchaudio.save(path, waveform, sample_rate, format=format)\n",
        "        inspect_file(path)"
      ]
    },
    {
      "cell_type": "markdown",
      "metadata": {
        "id": "o72G0jPAOxLU"
      },
      "source": [
        "## Saving to file-like object\n",
        "\n",
        "Similar to the other I/O functions, you can save audio to file-like\n",
        "objects. When saving to a file-like object, argument ``format`` is\n",
        "required.\n",
        "\n",
        "\n"
      ]
    },
    {
      "cell_type": "code",
      "execution_count": null,
      "metadata": {
        "id": "pYdMgootOxLV"
      },
      "outputs": [],
      "source": [
        "waveform, sample_rate = torchaudio.load(SAMPLE_WAV)\n",
        "\n",
        "# Saving to bytes buffer\n",
        "buffer_ = io.BytesIO()\n",
        "torchaudio.save(buffer_, waveform, sample_rate, format=\"wav\")\n",
        "\n",
        "buffer_.seek(0)\n",
        "print(buffer_.read(16))"
      ]
    }
  ],
  "metadata": {
    "kernelspec": {
      "display_name": "Python 3",
      "language": "python",
      "name": "python3"
    },
    "language_info": {
      "codemirror_mode": {
        "name": "ipython",
        "version": 3
      },
      "file_extension": ".py",
      "mimetype": "text/x-python",
      "name": "python",
      "nbconvert_exporter": "python",
      "pygments_lexer": "ipython3",
      "version": "3.8.13"
    },
    "colab": {
      "provenance": [],
      "include_colab_link": true
    },
    "widgets": {
      "application/vnd.jupyter.widget-state+json": {
        "4939debfacb44f36b62e2b7f229c4380": {
          "model_module": "@jupyter-widgets/controls",
          "model_name": "HBoxModel",
          "model_module_version": "1.5.0",
          "state": {
            "_dom_classes": [],
            "_model_module": "@jupyter-widgets/controls",
            "_model_module_version": "1.5.0",
            "_model_name": "HBoxModel",
            "_view_count": null,
            "_view_module": "@jupyter-widgets/controls",
            "_view_module_version": "1.5.0",
            "_view_name": "HBoxView",
            "box_style": "",
            "children": [
              "IPY_MODEL_9f60521cb78b410e8c0bf7ed268efc69",
              "IPY_MODEL_5fff30e4288a451ba84beb20fca36692",
              "IPY_MODEL_50111c04154e4c19b128bc666434f027"
            ],
            "layout": "IPY_MODEL_38ce4d84e71a4712b4ba908d8cccd0c5"
          }
        },
        "9f60521cb78b410e8c0bf7ed268efc69": {
          "model_module": "@jupyter-widgets/controls",
          "model_name": "HTMLModel",
          "model_module_version": "1.5.0",
          "state": {
            "_dom_classes": [],
            "_model_module": "@jupyter-widgets/controls",
            "_model_module_version": "1.5.0",
            "_model_name": "HTMLModel",
            "_view_count": null,
            "_view_module": "@jupyter-widgets/controls",
            "_view_module_version": "1.5.0",
            "_view_name": "HTMLView",
            "description": "",
            "description_tooltip": null,
            "layout": "IPY_MODEL_b6cfb1c7fff24053939495166fe6dc1d",
            "placeholder": "​",
            "style": "IPY_MODEL_5a9af4dcca964e049653197370b70e16",
            "value": "100%"
          }
        },
        "5fff30e4288a451ba84beb20fca36692": {
          "model_module": "@jupyter-widgets/controls",
          "model_name": "FloatProgressModel",
          "model_module_version": "1.5.0",
          "state": {
            "_dom_classes": [],
            "_model_module": "@jupyter-widgets/controls",
            "_model_module_version": "1.5.0",
            "_model_name": "FloatProgressModel",
            "_view_count": null,
            "_view_module": "@jupyter-widgets/controls",
            "_view_module_version": "1.5.0",
            "_view_name": "ProgressView",
            "bar_style": "success",
            "description": "",
            "description_tooltip": null,
            "layout": "IPY_MODEL_80490eb16cca4b538084041f7f20870a",
            "max": 8184,
            "min": 0,
            "orientation": "horizontal",
            "style": "IPY_MODEL_b319f53afdb94482af07f9c17b7e2bf4",
            "value": 8184
          }
        },
        "50111c04154e4c19b128bc666434f027": {
          "model_module": "@jupyter-widgets/controls",
          "model_name": "HTMLModel",
          "model_module_version": "1.5.0",
          "state": {
            "_dom_classes": [],
            "_model_module": "@jupyter-widgets/controls",
            "_model_module_version": "1.5.0",
            "_model_name": "HTMLModel",
            "_view_count": null,
            "_view_module": "@jupyter-widgets/controls",
            "_view_module_version": "1.5.0",
            "_view_name": "HTMLView",
            "description": "",
            "description_tooltip": null,
            "layout": "IPY_MODEL_532417c46dc94df995ab910dfb2c3163",
            "placeholder": "​",
            "style": "IPY_MODEL_f1a66d00c365455e9b531a91317887ae",
            "value": " 7.99k/7.99k [00:00&lt;00:00, 248kB/s]"
          }
        },
        "38ce4d84e71a4712b4ba908d8cccd0c5": {
          "model_module": "@jupyter-widgets/base",
          "model_name": "LayoutModel",
          "model_module_version": "1.2.0",
          "state": {
            "_model_module": "@jupyter-widgets/base",
            "_model_module_version": "1.2.0",
            "_model_name": "LayoutModel",
            "_view_count": null,
            "_view_module": "@jupyter-widgets/base",
            "_view_module_version": "1.2.0",
            "_view_name": "LayoutView",
            "align_content": null,
            "align_items": null,
            "align_self": null,
            "border": null,
            "bottom": null,
            "display": null,
            "flex": null,
            "flex_flow": null,
            "grid_area": null,
            "grid_auto_columns": null,
            "grid_auto_flow": null,
            "grid_auto_rows": null,
            "grid_column": null,
            "grid_gap": null,
            "grid_row": null,
            "grid_template_areas": null,
            "grid_template_columns": null,
            "grid_template_rows": null,
            "height": null,
            "justify_content": null,
            "justify_items": null,
            "left": null,
            "margin": null,
            "max_height": null,
            "max_width": null,
            "min_height": null,
            "min_width": null,
            "object_fit": null,
            "object_position": null,
            "order": null,
            "overflow": null,
            "overflow_x": null,
            "overflow_y": null,
            "padding": null,
            "right": null,
            "top": null,
            "visibility": null,
            "width": null
          }
        },
        "b6cfb1c7fff24053939495166fe6dc1d": {
          "model_module": "@jupyter-widgets/base",
          "model_name": "LayoutModel",
          "model_module_version": "1.2.0",
          "state": {
            "_model_module": "@jupyter-widgets/base",
            "_model_module_version": "1.2.0",
            "_model_name": "LayoutModel",
            "_view_count": null,
            "_view_module": "@jupyter-widgets/base",
            "_view_module_version": "1.2.0",
            "_view_name": "LayoutView",
            "align_content": null,
            "align_items": null,
            "align_self": null,
            "border": null,
            "bottom": null,
            "display": null,
            "flex": null,
            "flex_flow": null,
            "grid_area": null,
            "grid_auto_columns": null,
            "grid_auto_flow": null,
            "grid_auto_rows": null,
            "grid_column": null,
            "grid_gap": null,
            "grid_row": null,
            "grid_template_areas": null,
            "grid_template_columns": null,
            "grid_template_rows": null,
            "height": null,
            "justify_content": null,
            "justify_items": null,
            "left": null,
            "margin": null,
            "max_height": null,
            "max_width": null,
            "min_height": null,
            "min_width": null,
            "object_fit": null,
            "object_position": null,
            "order": null,
            "overflow": null,
            "overflow_x": null,
            "overflow_y": null,
            "padding": null,
            "right": null,
            "top": null,
            "visibility": null,
            "width": null
          }
        },
        "5a9af4dcca964e049653197370b70e16": {
          "model_module": "@jupyter-widgets/controls",
          "model_name": "DescriptionStyleModel",
          "model_module_version": "1.5.0",
          "state": {
            "_model_module": "@jupyter-widgets/controls",
            "_model_module_version": "1.5.0",
            "_model_name": "DescriptionStyleModel",
            "_view_count": null,
            "_view_module": "@jupyter-widgets/base",
            "_view_module_version": "1.2.0",
            "_view_name": "StyleView",
            "description_width": ""
          }
        },
        "80490eb16cca4b538084041f7f20870a": {
          "model_module": "@jupyter-widgets/base",
          "model_name": "LayoutModel",
          "model_module_version": "1.2.0",
          "state": {
            "_model_module": "@jupyter-widgets/base",
            "_model_module_version": "1.2.0",
            "_model_name": "LayoutModel",
            "_view_count": null,
            "_view_module": "@jupyter-widgets/base",
            "_view_module_version": "1.2.0",
            "_view_name": "LayoutView",
            "align_content": null,
            "align_items": null,
            "align_self": null,
            "border": null,
            "bottom": null,
            "display": null,
            "flex": null,
            "flex_flow": null,
            "grid_area": null,
            "grid_auto_columns": null,
            "grid_auto_flow": null,
            "grid_auto_rows": null,
            "grid_column": null,
            "grid_gap": null,
            "grid_row": null,
            "grid_template_areas": null,
            "grid_template_columns": null,
            "grid_template_rows": null,
            "height": null,
            "justify_content": null,
            "justify_items": null,
            "left": null,
            "margin": null,
            "max_height": null,
            "max_width": null,
            "min_height": null,
            "min_width": null,
            "object_fit": null,
            "object_position": null,
            "order": null,
            "overflow": null,
            "overflow_x": null,
            "overflow_y": null,
            "padding": null,
            "right": null,
            "top": null,
            "visibility": null,
            "width": null
          }
        },
        "b319f53afdb94482af07f9c17b7e2bf4": {
          "model_module": "@jupyter-widgets/controls",
          "model_name": "ProgressStyleModel",
          "model_module_version": "1.5.0",
          "state": {
            "_model_module": "@jupyter-widgets/controls",
            "_model_module_version": "1.5.0",
            "_model_name": "ProgressStyleModel",
            "_view_count": null,
            "_view_module": "@jupyter-widgets/base",
            "_view_module_version": "1.2.0",
            "_view_name": "StyleView",
            "bar_color": null,
            "description_width": ""
          }
        },
        "532417c46dc94df995ab910dfb2c3163": {
          "model_module": "@jupyter-widgets/base",
          "model_name": "LayoutModel",
          "model_module_version": "1.2.0",
          "state": {
            "_model_module": "@jupyter-widgets/base",
            "_model_module_version": "1.2.0",
            "_model_name": "LayoutModel",
            "_view_count": null,
            "_view_module": "@jupyter-widgets/base",
            "_view_module_version": "1.2.0",
            "_view_name": "LayoutView",
            "align_content": null,
            "align_items": null,
            "align_self": null,
            "border": null,
            "bottom": null,
            "display": null,
            "flex": null,
            "flex_flow": null,
            "grid_area": null,
            "grid_auto_columns": null,
            "grid_auto_flow": null,
            "grid_auto_rows": null,
            "grid_column": null,
            "grid_gap": null,
            "grid_row": null,
            "grid_template_areas": null,
            "grid_template_columns": null,
            "grid_template_rows": null,
            "height": null,
            "justify_content": null,
            "justify_items": null,
            "left": null,
            "margin": null,
            "max_height": null,
            "max_width": null,
            "min_height": null,
            "min_width": null,
            "object_fit": null,
            "object_position": null,
            "order": null,
            "overflow": null,
            "overflow_x": null,
            "overflow_y": null,
            "padding": null,
            "right": null,
            "top": null,
            "visibility": null,
            "width": null
          }
        },
        "f1a66d00c365455e9b531a91317887ae": {
          "model_module": "@jupyter-widgets/controls",
          "model_name": "DescriptionStyleModel",
          "model_module_version": "1.5.0",
          "state": {
            "_model_module": "@jupyter-widgets/controls",
            "_model_module_version": "1.5.0",
            "_model_name": "DescriptionStyleModel",
            "_view_count": null,
            "_view_module": "@jupyter-widgets/base",
            "_view_module_version": "1.2.0",
            "_view_name": "StyleView",
            "description_width": ""
          }
        },
        "e0e61f723eab418e82c90b82171f9786": {
          "model_module": "@jupyter-widgets/controls",
          "model_name": "HBoxModel",
          "model_module_version": "1.5.0",
          "state": {
            "_dom_classes": [],
            "_model_module": "@jupyter-widgets/controls",
            "_model_module_version": "1.5.0",
            "_model_name": "HBoxModel",
            "_view_count": null,
            "_view_module": "@jupyter-widgets/controls",
            "_view_module_version": "1.5.0",
            "_view_name": "HBoxView",
            "box_style": "",
            "children": [
              "IPY_MODEL_f25ba601baf746cfb1bb5ad6e3b3e0d9",
              "IPY_MODEL_c42cd6b589154e628b9cd4c75a7ea947",
              "IPY_MODEL_907a16999aa3481abdbc9de166149781"
            ],
            "layout": "IPY_MODEL_be2c46547e3449059edc0125805e8684"
          }
        },
        "f25ba601baf746cfb1bb5ad6e3b3e0d9": {
          "model_module": "@jupyter-widgets/controls",
          "model_name": "HTMLModel",
          "model_module_version": "1.5.0",
          "state": {
            "_dom_classes": [],
            "_model_module": "@jupyter-widgets/controls",
            "_model_module_version": "1.5.0",
            "_model_name": "HTMLModel",
            "_view_count": null,
            "_view_module": "@jupyter-widgets/controls",
            "_view_module_version": "1.5.0",
            "_view_name": "HTMLView",
            "description": "",
            "description_tooltip": null,
            "layout": "IPY_MODEL_5776f4a87e834be1bf9dc34eb1fdbdda",
            "placeholder": "​",
            "style": "IPY_MODEL_424e8b47093b436d91d550f7cc7c8f53",
            "value": "100%"
          }
        },
        "c42cd6b589154e628b9cd4c75a7ea947": {
          "model_module": "@jupyter-widgets/controls",
          "model_name": "FloatProgressModel",
          "model_module_version": "1.5.0",
          "state": {
            "_dom_classes": [],
            "_model_module": "@jupyter-widgets/controls",
            "_model_module_version": "1.5.0",
            "_model_name": "FloatProgressModel",
            "_view_count": null,
            "_view_module": "@jupyter-widgets/controls",
            "_view_module_version": "1.5.0",
            "_view_name": "ProgressView",
            "bar_style": "success",
            "description": "",
            "description_tooltip": null,
            "layout": "IPY_MODEL_07c259347f3645e68a21b6c8ecd74933",
            "max": 108844,
            "min": 0,
            "orientation": "horizontal",
            "style": "IPY_MODEL_c73cfe8a0ee64271bf8652abc048cd1e",
            "value": 108844
          }
        },
        "907a16999aa3481abdbc9de166149781": {
          "model_module": "@jupyter-widgets/controls",
          "model_name": "HTMLModel",
          "model_module_version": "1.5.0",
          "state": {
            "_dom_classes": [],
            "_model_module": "@jupyter-widgets/controls",
            "_model_module_version": "1.5.0",
            "_model_name": "HTMLModel",
            "_view_count": null,
            "_view_module": "@jupyter-widgets/controls",
            "_view_module_version": "1.5.0",
            "_view_name": "HTMLView",
            "description": "",
            "description_tooltip": null,
            "layout": "IPY_MODEL_908d000f434c4ec3aeecda1e4d187f9f",
            "placeholder": "​",
            "style": "IPY_MODEL_df59c8581390476ebed7482ae37c6397",
            "value": " 106k/106k [00:00&lt;00:00, 3.59MB/s]"
          }
        },
        "be2c46547e3449059edc0125805e8684": {
          "model_module": "@jupyter-widgets/base",
          "model_name": "LayoutModel",
          "model_module_version": "1.2.0",
          "state": {
            "_model_module": "@jupyter-widgets/base",
            "_model_module_version": "1.2.0",
            "_model_name": "LayoutModel",
            "_view_count": null,
            "_view_module": "@jupyter-widgets/base",
            "_view_module_version": "1.2.0",
            "_view_name": "LayoutView",
            "align_content": null,
            "align_items": null,
            "align_self": null,
            "border": null,
            "bottom": null,
            "display": null,
            "flex": null,
            "flex_flow": null,
            "grid_area": null,
            "grid_auto_columns": null,
            "grid_auto_flow": null,
            "grid_auto_rows": null,
            "grid_column": null,
            "grid_gap": null,
            "grid_row": null,
            "grid_template_areas": null,
            "grid_template_columns": null,
            "grid_template_rows": null,
            "height": null,
            "justify_content": null,
            "justify_items": null,
            "left": null,
            "margin": null,
            "max_height": null,
            "max_width": null,
            "min_height": null,
            "min_width": null,
            "object_fit": null,
            "object_position": null,
            "order": null,
            "overflow": null,
            "overflow_x": null,
            "overflow_y": null,
            "padding": null,
            "right": null,
            "top": null,
            "visibility": null,
            "width": null
          }
        },
        "5776f4a87e834be1bf9dc34eb1fdbdda": {
          "model_module": "@jupyter-widgets/base",
          "model_name": "LayoutModel",
          "model_module_version": "1.2.0",
          "state": {
            "_model_module": "@jupyter-widgets/base",
            "_model_module_version": "1.2.0",
            "_model_name": "LayoutModel",
            "_view_count": null,
            "_view_module": "@jupyter-widgets/base",
            "_view_module_version": "1.2.0",
            "_view_name": "LayoutView",
            "align_content": null,
            "align_items": null,
            "align_self": null,
            "border": null,
            "bottom": null,
            "display": null,
            "flex": null,
            "flex_flow": null,
            "grid_area": null,
            "grid_auto_columns": null,
            "grid_auto_flow": null,
            "grid_auto_rows": null,
            "grid_column": null,
            "grid_gap": null,
            "grid_row": null,
            "grid_template_areas": null,
            "grid_template_columns": null,
            "grid_template_rows": null,
            "height": null,
            "justify_content": null,
            "justify_items": null,
            "left": null,
            "margin": null,
            "max_height": null,
            "max_width": null,
            "min_height": null,
            "min_width": null,
            "object_fit": null,
            "object_position": null,
            "order": null,
            "overflow": null,
            "overflow_x": null,
            "overflow_y": null,
            "padding": null,
            "right": null,
            "top": null,
            "visibility": null,
            "width": null
          }
        },
        "424e8b47093b436d91d550f7cc7c8f53": {
          "model_module": "@jupyter-widgets/controls",
          "model_name": "DescriptionStyleModel",
          "model_module_version": "1.5.0",
          "state": {
            "_model_module": "@jupyter-widgets/controls",
            "_model_module_version": "1.5.0",
            "_model_name": "DescriptionStyleModel",
            "_view_count": null,
            "_view_module": "@jupyter-widgets/base",
            "_view_module_version": "1.2.0",
            "_view_name": "StyleView",
            "description_width": ""
          }
        },
        "07c259347f3645e68a21b6c8ecd74933": {
          "model_module": "@jupyter-widgets/base",
          "model_name": "LayoutModel",
          "model_module_version": "1.2.0",
          "state": {
            "_model_module": "@jupyter-widgets/base",
            "_model_module_version": "1.2.0",
            "_model_name": "LayoutModel",
            "_view_count": null,
            "_view_module": "@jupyter-widgets/base",
            "_view_module_version": "1.2.0",
            "_view_name": "LayoutView",
            "align_content": null,
            "align_items": null,
            "align_self": null,
            "border": null,
            "bottom": null,
            "display": null,
            "flex": null,
            "flex_flow": null,
            "grid_area": null,
            "grid_auto_columns": null,
            "grid_auto_flow": null,
            "grid_auto_rows": null,
            "grid_column": null,
            "grid_gap": null,
            "grid_row": null,
            "grid_template_areas": null,
            "grid_template_columns": null,
            "grid_template_rows": null,
            "height": null,
            "justify_content": null,
            "justify_items": null,
            "left": null,
            "margin": null,
            "max_height": null,
            "max_width": null,
            "min_height": null,
            "min_width": null,
            "object_fit": null,
            "object_position": null,
            "order": null,
            "overflow": null,
            "overflow_x": null,
            "overflow_y": null,
            "padding": null,
            "right": null,
            "top": null,
            "visibility": null,
            "width": null
          }
        },
        "c73cfe8a0ee64271bf8652abc048cd1e": {
          "model_module": "@jupyter-widgets/controls",
          "model_name": "ProgressStyleModel",
          "model_module_version": "1.5.0",
          "state": {
            "_model_module": "@jupyter-widgets/controls",
            "_model_module_version": "1.5.0",
            "_model_name": "ProgressStyleModel",
            "_view_count": null,
            "_view_module": "@jupyter-widgets/base",
            "_view_module_version": "1.2.0",
            "_view_name": "StyleView",
            "bar_color": null,
            "description_width": ""
          }
        },
        "908d000f434c4ec3aeecda1e4d187f9f": {
          "model_module": "@jupyter-widgets/base",
          "model_name": "LayoutModel",
          "model_module_version": "1.2.0",
          "state": {
            "_model_module": "@jupyter-widgets/base",
            "_model_module_version": "1.2.0",
            "_model_name": "LayoutModel",
            "_view_count": null,
            "_view_module": "@jupyter-widgets/base",
            "_view_module_version": "1.2.0",
            "_view_name": "LayoutView",
            "align_content": null,
            "align_items": null,
            "align_self": null,
            "border": null,
            "bottom": null,
            "display": null,
            "flex": null,
            "flex_flow": null,
            "grid_area": null,
            "grid_auto_columns": null,
            "grid_auto_flow": null,
            "grid_auto_rows": null,
            "grid_column": null,
            "grid_gap": null,
            "grid_row": null,
            "grid_template_areas": null,
            "grid_template_columns": null,
            "grid_template_rows": null,
            "height": null,
            "justify_content": null,
            "justify_items": null,
            "left": null,
            "margin": null,
            "max_height": null,
            "max_width": null,
            "min_height": null,
            "min_width": null,
            "object_fit": null,
            "object_position": null,
            "order": null,
            "overflow": null,
            "overflow_x": null,
            "overflow_y": null,
            "padding": null,
            "right": null,
            "top": null,
            "visibility": null,
            "width": null
          }
        },
        "df59c8581390476ebed7482ae37c6397": {
          "model_module": "@jupyter-widgets/controls",
          "model_name": "DescriptionStyleModel",
          "model_module_version": "1.5.0",
          "state": {
            "_model_module": "@jupyter-widgets/controls",
            "_model_module_version": "1.5.0",
            "_model_name": "DescriptionStyleModel",
            "_view_count": null,
            "_view_module": "@jupyter-widgets/base",
            "_view_module_version": "1.2.0",
            "_view_name": "StyleView",
            "description_width": ""
          }
        },
        "db3bdec19bbc4ee8bfc9c04d219be902": {
          "model_module": "@jupyter-widgets/controls",
          "model_name": "HBoxModel",
          "model_module_version": "1.5.0",
          "state": {
            "_dom_classes": [],
            "_model_module": "@jupyter-widgets/controls",
            "_model_module_version": "1.5.0",
            "_model_name": "HBoxModel",
            "_view_count": null,
            "_view_module": "@jupyter-widgets/controls",
            "_view_module_version": "1.5.0",
            "_view_name": "HBoxView",
            "box_style": "",
            "children": [
              "IPY_MODEL_cb4d907cc498454893b26c626687982b",
              "IPY_MODEL_bfb24bac22254b32a5213c8c359df92b",
              "IPY_MODEL_ef443a7b328145ee96e3e634b2c379ab"
            ],
            "layout": "IPY_MODEL_2208593e59fc4750acf2dc1f4d5c557b"
          }
        },
        "cb4d907cc498454893b26c626687982b": {
          "model_module": "@jupyter-widgets/controls",
          "model_name": "HTMLModel",
          "model_module_version": "1.5.0",
          "state": {
            "_dom_classes": [],
            "_model_module": "@jupyter-widgets/controls",
            "_model_module_version": "1.5.0",
            "_model_name": "HTMLModel",
            "_view_count": null,
            "_view_module": "@jupyter-widgets/controls",
            "_view_module_version": "1.5.0",
            "_view_name": "HTMLView",
            "description": "",
            "description_tooltip": null,
            "layout": "IPY_MODEL_0c77d233369e492c9aa8e0facb2338ea",
            "placeholder": "​",
            "style": "IPY_MODEL_0770eedc9f2f443d9ec2d75a9ef72ab6",
            "value": "100%"
          }
        },
        "bfb24bac22254b32a5213c8c359df92b": {
          "model_module": "@jupyter-widgets/controls",
          "model_name": "FloatProgressModel",
          "model_module_version": "1.5.0",
          "state": {
            "_dom_classes": [],
            "_model_module": "@jupyter-widgets/controls",
            "_model_module_version": "1.5.0",
            "_model_name": "FloatProgressModel",
            "_view_count": null,
            "_view_module": "@jupyter-widgets/controls",
            "_view_module_version": "1.5.0",
            "_view_name": "ProgressView",
            "bar_style": "success",
            "description": "",
            "description_tooltip": null,
            "layout": "IPY_MODEL_c3f2452031ab46c28f677b2122315a7e",
            "max": 54444,
            "min": 0,
            "orientation": "horizontal",
            "style": "IPY_MODEL_938b53ab4b664fcc901898f5b0bff7ec",
            "value": 54444
          }
        },
        "ef443a7b328145ee96e3e634b2c379ab": {
          "model_module": "@jupyter-widgets/controls",
          "model_name": "HTMLModel",
          "model_module_version": "1.5.0",
          "state": {
            "_dom_classes": [],
            "_model_module": "@jupyter-widgets/controls",
            "_model_module_version": "1.5.0",
            "_model_name": "HTMLModel",
            "_view_count": null,
            "_view_module": "@jupyter-widgets/controls",
            "_view_module_version": "1.5.0",
            "_view_name": "HTMLView",
            "description": "",
            "description_tooltip": null,
            "layout": "IPY_MODEL_2272781d9f37406fb9aeb55eb82a025b",
            "placeholder": "​",
            "style": "IPY_MODEL_41eaeb62da834363b45ae3cac954c059",
            "value": " 53.2k/53.2k [00:00&lt;00:00, 783kB/s]"
          }
        },
        "2208593e59fc4750acf2dc1f4d5c557b": {
          "model_module": "@jupyter-widgets/base",
          "model_name": "LayoutModel",
          "model_module_version": "1.2.0",
          "state": {
            "_model_module": "@jupyter-widgets/base",
            "_model_module_version": "1.2.0",
            "_model_name": "LayoutModel",
            "_view_count": null,
            "_view_module": "@jupyter-widgets/base",
            "_view_module_version": "1.2.0",
            "_view_name": "LayoutView",
            "align_content": null,
            "align_items": null,
            "align_self": null,
            "border": null,
            "bottom": null,
            "display": null,
            "flex": null,
            "flex_flow": null,
            "grid_area": null,
            "grid_auto_columns": null,
            "grid_auto_flow": null,
            "grid_auto_rows": null,
            "grid_column": null,
            "grid_gap": null,
            "grid_row": null,
            "grid_template_areas": null,
            "grid_template_columns": null,
            "grid_template_rows": null,
            "height": null,
            "justify_content": null,
            "justify_items": null,
            "left": null,
            "margin": null,
            "max_height": null,
            "max_width": null,
            "min_height": null,
            "min_width": null,
            "object_fit": null,
            "object_position": null,
            "order": null,
            "overflow": null,
            "overflow_x": null,
            "overflow_y": null,
            "padding": null,
            "right": null,
            "top": null,
            "visibility": null,
            "width": null
          }
        },
        "0c77d233369e492c9aa8e0facb2338ea": {
          "model_module": "@jupyter-widgets/base",
          "model_name": "LayoutModel",
          "model_module_version": "1.2.0",
          "state": {
            "_model_module": "@jupyter-widgets/base",
            "_model_module_version": "1.2.0",
            "_model_name": "LayoutModel",
            "_view_count": null,
            "_view_module": "@jupyter-widgets/base",
            "_view_module_version": "1.2.0",
            "_view_name": "LayoutView",
            "align_content": null,
            "align_items": null,
            "align_self": null,
            "border": null,
            "bottom": null,
            "display": null,
            "flex": null,
            "flex_flow": null,
            "grid_area": null,
            "grid_auto_columns": null,
            "grid_auto_flow": null,
            "grid_auto_rows": null,
            "grid_column": null,
            "grid_gap": null,
            "grid_row": null,
            "grid_template_areas": null,
            "grid_template_columns": null,
            "grid_template_rows": null,
            "height": null,
            "justify_content": null,
            "justify_items": null,
            "left": null,
            "margin": null,
            "max_height": null,
            "max_width": null,
            "min_height": null,
            "min_width": null,
            "object_fit": null,
            "object_position": null,
            "order": null,
            "overflow": null,
            "overflow_x": null,
            "overflow_y": null,
            "padding": null,
            "right": null,
            "top": null,
            "visibility": null,
            "width": null
          }
        },
        "0770eedc9f2f443d9ec2d75a9ef72ab6": {
          "model_module": "@jupyter-widgets/controls",
          "model_name": "DescriptionStyleModel",
          "model_module_version": "1.5.0",
          "state": {
            "_model_module": "@jupyter-widgets/controls",
            "_model_module_version": "1.5.0",
            "_model_name": "DescriptionStyleModel",
            "_view_count": null,
            "_view_module": "@jupyter-widgets/base",
            "_view_module_version": "1.2.0",
            "_view_name": "StyleView",
            "description_width": ""
          }
        },
        "c3f2452031ab46c28f677b2122315a7e": {
          "model_module": "@jupyter-widgets/base",
          "model_name": "LayoutModel",
          "model_module_version": "1.2.0",
          "state": {
            "_model_module": "@jupyter-widgets/base",
            "_model_module_version": "1.2.0",
            "_model_name": "LayoutModel",
            "_view_count": null,
            "_view_module": "@jupyter-widgets/base",
            "_view_module_version": "1.2.0",
            "_view_name": "LayoutView",
            "align_content": null,
            "align_items": null,
            "align_self": null,
            "border": null,
            "bottom": null,
            "display": null,
            "flex": null,
            "flex_flow": null,
            "grid_area": null,
            "grid_auto_columns": null,
            "grid_auto_flow": null,
            "grid_auto_rows": null,
            "grid_column": null,
            "grid_gap": null,
            "grid_row": null,
            "grid_template_areas": null,
            "grid_template_columns": null,
            "grid_template_rows": null,
            "height": null,
            "justify_content": null,
            "justify_items": null,
            "left": null,
            "margin": null,
            "max_height": null,
            "max_width": null,
            "min_height": null,
            "min_width": null,
            "object_fit": null,
            "object_position": null,
            "order": null,
            "overflow": null,
            "overflow_x": null,
            "overflow_y": null,
            "padding": null,
            "right": null,
            "top": null,
            "visibility": null,
            "width": null
          }
        },
        "938b53ab4b664fcc901898f5b0bff7ec": {
          "model_module": "@jupyter-widgets/controls",
          "model_name": "ProgressStyleModel",
          "model_module_version": "1.5.0",
          "state": {
            "_model_module": "@jupyter-widgets/controls",
            "_model_module_version": "1.5.0",
            "_model_name": "ProgressStyleModel",
            "_view_count": null,
            "_view_module": "@jupyter-widgets/base",
            "_view_module_version": "1.2.0",
            "_view_name": "StyleView",
            "bar_color": null,
            "description_width": ""
          }
        },
        "2272781d9f37406fb9aeb55eb82a025b": {
          "model_module": "@jupyter-widgets/base",
          "model_name": "LayoutModel",
          "model_module_version": "1.2.0",
          "state": {
            "_model_module": "@jupyter-widgets/base",
            "_model_module_version": "1.2.0",
            "_model_name": "LayoutModel",
            "_view_count": null,
            "_view_module": "@jupyter-widgets/base",
            "_view_module_version": "1.2.0",
            "_view_name": "LayoutView",
            "align_content": null,
            "align_items": null,
            "align_self": null,
            "border": null,
            "bottom": null,
            "display": null,
            "flex": null,
            "flex_flow": null,
            "grid_area": null,
            "grid_auto_columns": null,
            "grid_auto_flow": null,
            "grid_auto_rows": null,
            "grid_column": null,
            "grid_gap": null,
            "grid_row": null,
            "grid_template_areas": null,
            "grid_template_columns": null,
            "grid_template_rows": null,
            "height": null,
            "justify_content": null,
            "justify_items": null,
            "left": null,
            "margin": null,
            "max_height": null,
            "max_width": null,
            "min_height": null,
            "min_width": null,
            "object_fit": null,
            "object_position": null,
            "order": null,
            "overflow": null,
            "overflow_x": null,
            "overflow_y": null,
            "padding": null,
            "right": null,
            "top": null,
            "visibility": null,
            "width": null
          }
        },
        "41eaeb62da834363b45ae3cac954c059": {
          "model_module": "@jupyter-widgets/controls",
          "model_name": "DescriptionStyleModel",
          "model_module_version": "1.5.0",
          "state": {
            "_model_module": "@jupyter-widgets/controls",
            "_model_module_version": "1.5.0",
            "_model_name": "DescriptionStyleModel",
            "_view_count": null,
            "_view_module": "@jupyter-widgets/base",
            "_view_module_version": "1.2.0",
            "_view_name": "StyleView",
            "description_width": ""
          }
        }
      }
    }
  },
  "nbformat": 4,
  "nbformat_minor": 0
}